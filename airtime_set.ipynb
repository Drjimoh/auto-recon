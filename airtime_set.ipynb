{
 "cells": [
  {
   "cell_type": "code",
   "execution_count": 39,
   "id": "60ec1f76",
   "metadata": {},
   "outputs": [],
   "source": [
    "import os\n"
   ]
  },
  {
   "cell_type": "code",
   "execution_count": 112,
   "id": "fd42812b",
   "metadata": {},
   "outputs": [],
   "source": [
    "import pandas as pd\n",
    "\n",
    "\n",
    "class DataProcessor:\n",
    "    def __init__(self, file_path):\n",
    "        self.file_path = file_path\n",
    "        self.df = None  # Initialize DataFrame to None\n",
    "        #Initializing class attribute\n",
    "        self.matched_count = 0\n",
    "        self.unmatched_count = 0\n",
    "        self.total_sum = 0\n",
    "        self.matched_df = None\n",
    "        self.unmatched_df = None\n",
    "\n",
    "    def process_data(self):\n",
    "        print(f\"Matching for {str(self.file_path)[-17:]} in progress...\")\n",
    "        \"\"\"Loads data, extracts matching criteria, groups, filters, and saves results.\"\"\"\n",
    "        self.df = pd.read_csv(self.file_path)\n",
    "        self.df['group_key'] = self.df['EXTERNAL_REF_NO'].str.extract('(?<=/)(.*?)(?=_)', expand=False)\n",
    "\n",
    "        grouped_df = self.df.groupby('group_key')[['TXN_AMT']].agg(sum=pd.NamedAgg(column='TXN_AMT', aggfunc='sum')).reset_index()\n",
    "        grouped_df['matched'] = (grouped_df['sum'] == 0).astype(int)\n",
    "        \n",
    "        matched_df = self.df[self.df['group_key'].isin(grouped_df[grouped_df['matched'] == 1]['group_key'])]\n",
    "        \n",
    "        \n",
    "        unmatched_df = self.df[~self.df['group_key'].isin(grouped_df[grouped_df['matched'] == 1]['group_key'])]\n",
    "        self.total_sum += df['TXN_AMT'].sum()\n",
    "        self.unmatched_count += unmatched_df['TXN_AMT'].count() #increase the number of unmatched items\n",
    "        self.matched_count += matched_df['TXN_AMT'].count() #increase the number of matched items\n",
    "        \n",
    "        print(f\"Done Matching: Found {matched_df['TXN_AMT'].count()} matched items and {unmatched_df['TXN_AMT'].count()} unmatched items...\")\n",
    "        \n",
    "    def update_record(self):\n",
    "         return self.total_sum, self.unmatched_count, self.matched_count   \n",
    "        \n",
    "    def save_output(self):\n",
    "        print(\"Saving output to file...\")\n",
    "        matched_df.to_csv(f\"{str(self.file_path)[-17:-4]}_matched.csv\", index=False)\n",
    "        unmatched_df.to_csv(f\"{str(self.file_path)[-17:-4]}_unmatched.csv\", index=False)\n",
    "        print(\"done saving... exiting logic\")\n",
    "\n"
   ]
  },
  {
   "cell_type": "code",
   "execution_count": 113,
   "id": "1db0b3a3",
   "metadata": {},
   "outputs": [],
   "source": [
    "# # Example usage:\n",
    "# processor = DataProcessor(r\"C:\\Users\\waliu\\Documents\\aaaaaaAutom8\\spools\\spool1_sheets\\spool1_sheet8.csv\")\n",
    "# processor.process_data()  # This will execute the data processing steps"
   ]
  },
  {
   "cell_type": "code",
   "execution_count": 114,
   "id": "8f249c30",
   "metadata": {},
   "outputs": [],
   "source": [
    "\n"
   ]
  },
  {
   "cell_type": "code",
   "execution_count": 123,
   "id": "0962d772",
   "metadata": {},
   "outputs": [],
   "source": []
  },
  {
   "cell_type": "code",
   "execution_count": 121,
   "id": "9486b85d-b142-4ebb-8dd5-68ba61ba26b7",
   "metadata": {
    "tags": []
   },
   "outputs": [],
   "source": []
  },
  {
   "cell_type": "code",
   "execution_count": 125,
   "id": "08c18a2b-5034-4188-bf6d-4382c611b83a",
   "metadata": {
    "tags": []
   },
   "outputs": [
    {
     "name": "stdout",
     "output_type": "stream",
     "text": [
      "Matching for spool2_sheet0.csv in progress...\n",
      "Done Matching: Found 858375 matched items and 141625 unmatched items...\n",
      "Matching for spool2_sheet1.csv in progress...\n",
      "Done Matching: Found 896559 matched items and 103441 unmatched items...\n",
      "Matching for pool2_sheet10.csv in progress...\n",
      "Done Matching: Found 0 matched items and 1000000 unmatched items...\n",
      "Matching for pool2_sheet11.csv in progress...\n",
      "Done Matching: Found 0 matched items and 1000000 unmatched items...\n",
      "Matching for pool2_sheet12.csv in progress...\n",
      "Done Matching: Found 0 matched items and 1000000 unmatched items...\n",
      "Matching for pool2_sheet13.csv in progress...\n"
     ]
    },
    {
     "name": "stderr",
     "output_type": "stream",
     "text": [
      "C:\\Users\\waliu\\AppData\\Local\\Packages\\PythonSoftwareFoundation.Python.3.7_qbz5n2kfra8p0\\LocalCache\\local-packages\\Python37\\site-packages\\ipykernel_launcher.py:11: DtypeWarning: Columns (4) have mixed types.Specify dtype option on import or set low_memory=False.\n",
      "  # This is added back by InteractiveShellApp.init_path()\n"
     ]
    },
    {
     "name": "stdout",
     "output_type": "stream",
     "text": [
      "Done Matching: Found 0 matched items and 724143 unmatched items...\n",
      "Matching for pool2_sheet14.csv in progress...\n",
      "Done Matching: Found 0 matched items and 185 unmatched items...\n",
      "Matching for spool2_sheet2.csv in progress...\n",
      "Done Matching: Found 959973 matched items and 40027 unmatched items...\n",
      "Matching for spool2_sheet3.csv in progress...\n",
      "Done Matching: Found 904746 matched items and 95254 unmatched items...\n",
      "Matching for spool2_sheet4.csv in progress...\n",
      "Done Matching: Found 842961 matched items and 157039 unmatched items...\n",
      "Matching for spool2_sheet5.csv in progress...\n",
      "Done Matching: Found 828963 matched items and 171037 unmatched items...\n",
      "Matching for spool2_sheet6.csv in progress...\n",
      "Done Matching: Found 922047 matched items and 77953 unmatched items...\n",
      "Matching for spool2_sheet7.csv in progress...\n",
      "Done Matching: Found 962541 matched items and 37459 unmatched items...\n",
      "Matching for spool2_sheet8.csv in progress...\n",
      "Done Matching: Found 446439 matched items and 190148 unmatched items...\n",
      "Matching for spool2_sheet9.csv in progress...\n",
      "Done Matching: Found 0 matched items and 999999 unmatched items...\n"
     ]
    }
   ],
   "source": [
    "total_matched_count = 0\n",
    "total_unmatched_count = 0\n",
    "total_sum = 0\n",
    "\n",
    "folder_path = r\"C:\\Users\\waliu\\Documents\\aaaaaaAutom8\\spools\\spool2_sheets\"\n",
    "file_list = os.listdir(folder_path)\n",
    "files = os.path.join(folder_path)\n",
    "\n",
    "for item in file_list:\n",
    "    processor = DataProcessor(os.path.join(folder_path, item))\n",
    "    processor.process_data()\n",
    "    total_matched_count += processor.matched_count\n",
    "    total_unmatched_count += processor.unmatched_count\n",
    "    total_sum += processor.total_sum\n"
   ]
  },
  {
   "cell_type": "code",
   "execution_count": 126,
   "id": "880c4790-c624-42db-8475-fed163bc0f3d",
   "metadata": {
    "tags": []
   },
   "outputs": [
    {
     "data": {
      "text/plain": [
       "7622604"
      ]
     },
     "execution_count": 126,
     "metadata": {},
     "output_type": "execute_result"
    }
   ],
   "source": [
    "total_matched_count\n"
   ]
  },
  {
   "cell_type": "code",
   "execution_count": 128,
   "id": "e2b8e529-ae37-4220-a1c1-fa2e34c11672",
   "metadata": {
    "tags": []
   },
   "outputs": [
    {
     "name": "stdout",
     "output_type": "stream",
     "text": [
      "Matching for pool1_sheet10.csv in progress...\n",
      "Done Matching: Found 933425 matched items and 66575 unmatched items...\n",
      "Matching for pool1_sheet11.csv in progress...\n",
      "Done Matching: Found 899016 matched items and 100984 unmatched items...\n",
      "Matching for pool1_sheet12.csv in progress...\n",
      "Done Matching: Found 970494 matched items and 29506 unmatched items...\n",
      "Matching for pool1_sheet13.csv in progress...\n",
      "Done Matching: Found 949908 matched items and 50092 unmatched items...\n",
      "Matching for pool1_sheet14.csv in progress...\n",
      "Done Matching: Found 927225 matched items and 72775 unmatched items...\n",
      "Matching for pool1_sheet15.csv in progress...\n",
      "Done Matching: Found 959064 matched items and 40936 unmatched items...\n",
      "Matching for pool1_sheet16.csv in progress...\n",
      "Done Matching: Found 981228 matched items and 18772 unmatched items...\n",
      "Matching for pool1_sheet17.csv in progress...\n",
      "Done Matching: Found 910371 matched items and 89629 unmatched items...\n",
      "Matching for 7_outstanding.csv in progress...\n"
     ]
    },
    {
     "ename": "KeyError",
     "evalue": "\"Columns not found: 'TXN_AMT'\"",
     "output_type": "error",
     "traceback": [
      "\u001b[1;31m---------------------------------------------------------------------------\u001b[0m",
      "\u001b[1;31mKeyError\u001b[0m                                  Traceback (most recent call last)",
      "\u001b[1;32m~\\AppData\\Local\\Temp\\ipykernel_79016\\2277186391.py\u001b[0m in \u001b[0;36m<module>\u001b[1;34m\u001b[0m\n\u001b[0;32m      5\u001b[0m \u001b[1;32mfor\u001b[0m \u001b[0mitem\u001b[0m \u001b[1;32min\u001b[0m \u001b[0mfile_list\u001b[0m\u001b[1;33m:\u001b[0m\u001b[1;33m\u001b[0m\u001b[1;33m\u001b[0m\u001b[0m\n\u001b[0;32m      6\u001b[0m     \u001b[0mprocessor\u001b[0m \u001b[1;33m=\u001b[0m \u001b[0mDataProcessor\u001b[0m\u001b[1;33m(\u001b[0m\u001b[0mos\u001b[0m\u001b[1;33m.\u001b[0m\u001b[0mpath\u001b[0m\u001b[1;33m.\u001b[0m\u001b[0mjoin\u001b[0m\u001b[1;33m(\u001b[0m\u001b[0mfolder_path\u001b[0m\u001b[1;33m,\u001b[0m \u001b[0mitem\u001b[0m\u001b[1;33m)\u001b[0m\u001b[1;33m)\u001b[0m\u001b[1;33m\u001b[0m\u001b[1;33m\u001b[0m\u001b[0m\n\u001b[1;32m----> 7\u001b[1;33m     \u001b[0mprocessor\u001b[0m\u001b[1;33m.\u001b[0m\u001b[0mprocess_data\u001b[0m\u001b[1;33m(\u001b[0m\u001b[1;33m)\u001b[0m\u001b[1;33m\u001b[0m\u001b[1;33m\u001b[0m\u001b[0m\n\u001b[0m\u001b[0;32m      8\u001b[0m     \u001b[0mtotal_matched_count\u001b[0m \u001b[1;33m+=\u001b[0m \u001b[0mprocessor\u001b[0m\u001b[1;33m.\u001b[0m\u001b[0mmatched_count\u001b[0m\u001b[1;33m\u001b[0m\u001b[1;33m\u001b[0m\u001b[0m\n\u001b[0;32m      9\u001b[0m     \u001b[0mtotal_unmatched_count\u001b[0m \u001b[1;33m+=\u001b[0m \u001b[0mprocessor\u001b[0m\u001b[1;33m.\u001b[0m\u001b[0munmatched_count\u001b[0m\u001b[1;33m\u001b[0m\u001b[1;33m\u001b[0m\u001b[0m\n",
      "\u001b[1;32m~\\AppData\\Local\\Temp\\ipykernel_79016\\436248952.py\u001b[0m in \u001b[0;36mprocess_data\u001b[1;34m(self)\u001b[0m\n\u001b[0;32m     19\u001b[0m         \u001b[0mself\u001b[0m\u001b[1;33m.\u001b[0m\u001b[0mdf\u001b[0m\u001b[1;33m[\u001b[0m\u001b[1;34m'group_key'\u001b[0m\u001b[1;33m]\u001b[0m \u001b[1;33m=\u001b[0m \u001b[0mself\u001b[0m\u001b[1;33m.\u001b[0m\u001b[0mdf\u001b[0m\u001b[1;33m[\u001b[0m\u001b[1;34m'EXTERNAL_REF_NO'\u001b[0m\u001b[1;33m]\u001b[0m\u001b[1;33m.\u001b[0m\u001b[0mstr\u001b[0m\u001b[1;33m.\u001b[0m\u001b[0mextract\u001b[0m\u001b[1;33m(\u001b[0m\u001b[1;34m'(?<=/)(.*?)(?=_)'\u001b[0m\u001b[1;33m,\u001b[0m \u001b[0mexpand\u001b[0m\u001b[1;33m=\u001b[0m\u001b[1;32mFalse\u001b[0m\u001b[1;33m)\u001b[0m\u001b[1;33m\u001b[0m\u001b[1;33m\u001b[0m\u001b[0m\n\u001b[0;32m     20\u001b[0m \u001b[1;33m\u001b[0m\u001b[0m\n\u001b[1;32m---> 21\u001b[1;33m         \u001b[0mgrouped_df\u001b[0m \u001b[1;33m=\u001b[0m \u001b[0mself\u001b[0m\u001b[1;33m.\u001b[0m\u001b[0mdf\u001b[0m\u001b[1;33m.\u001b[0m\u001b[0mgroupby\u001b[0m\u001b[1;33m(\u001b[0m\u001b[1;34m'group_key'\u001b[0m\u001b[1;33m)\u001b[0m\u001b[1;33m[\u001b[0m\u001b[1;33m[\u001b[0m\u001b[1;34m'TXN_AMT'\u001b[0m\u001b[1;33m]\u001b[0m\u001b[1;33m]\u001b[0m\u001b[1;33m.\u001b[0m\u001b[0magg\u001b[0m\u001b[1;33m(\u001b[0m\u001b[0msum\u001b[0m\u001b[1;33m=\u001b[0m\u001b[0mpd\u001b[0m\u001b[1;33m.\u001b[0m\u001b[0mNamedAgg\u001b[0m\u001b[1;33m(\u001b[0m\u001b[0mcolumn\u001b[0m\u001b[1;33m=\u001b[0m\u001b[1;34m'TXN_AMT'\u001b[0m\u001b[1;33m,\u001b[0m \u001b[0maggfunc\u001b[0m\u001b[1;33m=\u001b[0m\u001b[1;34m'sum'\u001b[0m\u001b[1;33m)\u001b[0m\u001b[1;33m)\u001b[0m\u001b[1;33m.\u001b[0m\u001b[0mreset_index\u001b[0m\u001b[1;33m(\u001b[0m\u001b[1;33m)\u001b[0m\u001b[1;33m\u001b[0m\u001b[1;33m\u001b[0m\u001b[0m\n\u001b[0m\u001b[0;32m     22\u001b[0m         \u001b[0mgrouped_df\u001b[0m\u001b[1;33m[\u001b[0m\u001b[1;34m'matched'\u001b[0m\u001b[1;33m]\u001b[0m \u001b[1;33m=\u001b[0m \u001b[1;33m(\u001b[0m\u001b[0mgrouped_df\u001b[0m\u001b[1;33m[\u001b[0m\u001b[1;34m'sum'\u001b[0m\u001b[1;33m]\u001b[0m \u001b[1;33m==\u001b[0m \u001b[1;36m0\u001b[0m\u001b[1;33m)\u001b[0m\u001b[1;33m.\u001b[0m\u001b[0mastype\u001b[0m\u001b[1;33m(\u001b[0m\u001b[0mint\u001b[0m\u001b[1;33m)\u001b[0m\u001b[1;33m\u001b[0m\u001b[1;33m\u001b[0m\u001b[0m\n\u001b[0;32m     23\u001b[0m \u001b[1;33m\u001b[0m\u001b[0m\n",
      "\u001b[1;32m~\\AppData\\Local\\Packages\\PythonSoftwareFoundation.Python.3.7_qbz5n2kfra8p0\\LocalCache\\local-packages\\Python37\\site-packages\\pandas\\core\\groupby\\generic.py\u001b[0m in \u001b[0;36m__getitem__\u001b[1;34m(self, key)\u001b[0m\n\u001b[0;32m   1536\u001b[0m                 \u001b[0mstacklevel\u001b[0m\u001b[1;33m=\u001b[0m\u001b[1;36m2\u001b[0m\u001b[1;33m,\u001b[0m\u001b[1;33m\u001b[0m\u001b[1;33m\u001b[0m\u001b[0m\n\u001b[0;32m   1537\u001b[0m             )\n\u001b[1;32m-> 1538\u001b[1;33m         \u001b[1;32mreturn\u001b[0m \u001b[0msuper\u001b[0m\u001b[1;33m(\u001b[0m\u001b[1;33m)\u001b[0m\u001b[1;33m.\u001b[0m\u001b[0m__getitem__\u001b[0m\u001b[1;33m(\u001b[0m\u001b[0mkey\u001b[0m\u001b[1;33m)\u001b[0m\u001b[1;33m\u001b[0m\u001b[1;33m\u001b[0m\u001b[0m\n\u001b[0m\u001b[0;32m   1539\u001b[0m \u001b[1;33m\u001b[0m\u001b[0m\n\u001b[0;32m   1540\u001b[0m     \u001b[1;32mdef\u001b[0m \u001b[0m_gotitem\u001b[0m\u001b[1;33m(\u001b[0m\u001b[0mself\u001b[0m\u001b[1;33m,\u001b[0m \u001b[0mkey\u001b[0m\u001b[1;33m,\u001b[0m \u001b[0mndim\u001b[0m\u001b[1;33m:\u001b[0m \u001b[0mint\u001b[0m\u001b[1;33m,\u001b[0m \u001b[0msubset\u001b[0m\u001b[1;33m=\u001b[0m\u001b[1;32mNone\u001b[0m\u001b[1;33m)\u001b[0m\u001b[1;33m:\u001b[0m\u001b[1;33m\u001b[0m\u001b[1;33m\u001b[0m\u001b[0m\n",
      "\u001b[1;32m~\\AppData\\Local\\Packages\\PythonSoftwareFoundation.Python.3.7_qbz5n2kfra8p0\\LocalCache\\local-packages\\Python37\\site-packages\\pandas\\core\\base.py\u001b[0m in \u001b[0;36m__getitem__\u001b[1;34m(self, key)\u001b[0m\n\u001b[0;32m    220\u001b[0m             \u001b[1;32mif\u001b[0m \u001b[0mlen\u001b[0m\u001b[1;33m(\u001b[0m\u001b[0mself\u001b[0m\u001b[1;33m.\u001b[0m\u001b[0mobj\u001b[0m\u001b[1;33m.\u001b[0m\u001b[0mcolumns\u001b[0m\u001b[1;33m.\u001b[0m\u001b[0mintersection\u001b[0m\u001b[1;33m(\u001b[0m\u001b[0mkey\u001b[0m\u001b[1;33m)\u001b[0m\u001b[1;33m)\u001b[0m \u001b[1;33m!=\u001b[0m \u001b[0mlen\u001b[0m\u001b[1;33m(\u001b[0m\u001b[0mkey\u001b[0m\u001b[1;33m)\u001b[0m\u001b[1;33m:\u001b[0m\u001b[1;33m\u001b[0m\u001b[1;33m\u001b[0m\u001b[0m\n\u001b[0;32m    221\u001b[0m                 \u001b[0mbad_keys\u001b[0m \u001b[1;33m=\u001b[0m \u001b[0mlist\u001b[0m\u001b[1;33m(\u001b[0m\u001b[0mset\u001b[0m\u001b[1;33m(\u001b[0m\u001b[0mkey\u001b[0m\u001b[1;33m)\u001b[0m\u001b[1;33m.\u001b[0m\u001b[0mdifference\u001b[0m\u001b[1;33m(\u001b[0m\u001b[0mself\u001b[0m\u001b[1;33m.\u001b[0m\u001b[0mobj\u001b[0m\u001b[1;33m.\u001b[0m\u001b[0mcolumns\u001b[0m\u001b[1;33m)\u001b[0m\u001b[1;33m)\u001b[0m\u001b[1;33m\u001b[0m\u001b[1;33m\u001b[0m\u001b[0m\n\u001b[1;32m--> 222\u001b[1;33m                 \u001b[1;32mraise\u001b[0m \u001b[0mKeyError\u001b[0m\u001b[1;33m(\u001b[0m\u001b[1;34mf\"Columns not found: {str(bad_keys)[1:-1]}\"\u001b[0m\u001b[1;33m)\u001b[0m\u001b[1;33m\u001b[0m\u001b[1;33m\u001b[0m\u001b[0m\n\u001b[0m\u001b[0;32m    223\u001b[0m             \u001b[1;32mreturn\u001b[0m \u001b[0mself\u001b[0m\u001b[1;33m.\u001b[0m\u001b[0m_gotitem\u001b[0m\u001b[1;33m(\u001b[0m\u001b[0mlist\u001b[0m\u001b[1;33m(\u001b[0m\u001b[0mkey\u001b[0m\u001b[1;33m)\u001b[0m\u001b[1;33m,\u001b[0m \u001b[0mndim\u001b[0m\u001b[1;33m=\u001b[0m\u001b[1;36m2\u001b[0m\u001b[1;33m)\u001b[0m\u001b[1;33m\u001b[0m\u001b[1;33m\u001b[0m\u001b[0m\n\u001b[0;32m    224\u001b[0m \u001b[1;33m\u001b[0m\u001b[0m\n",
      "\u001b[1;31mKeyError\u001b[0m: \"Columns not found: 'TXN_AMT'\""
     ]
    }
   ],
   "source": [
    "folder_path = r\"C:\\Users\\waliu\\Documents\\aaaaaaAutom8\\spools\\spool1_sheets\"\n",
    "file_list = os.listdir(folder_path)\n",
    "files = os.path.join(folder_path)\n",
    "\n",
    "for item in file_list:\n",
    "    processor = DataProcessor(os.path.join(folder_path, item))\n",
    "    processor.process_data()\n",
    "    total_matched_count += processor.matched_count\n",
    "    total_unmatched_count += processor.unmatched_count\n",
    "    total_sum += processor.total_sum"
   ]
  },
  {
   "cell_type": "code",
   "execution_count": 129,
   "id": "2ced75f9-05c3-4672-aebe-422d16fb9804",
   "metadata": {
    "tags": []
   },
   "outputs": [
    {
     "data": {
      "text/plain": [
       "15153335"
      ]
     },
     "execution_count": 129,
     "metadata": {},
     "output_type": "execute_result"
    }
   ],
   "source": [
    "total_matched_count"
   ]
  },
  {
   "cell_type": "code",
   "execution_count": 130,
   "id": "7f44c581-871b-4535-8b2a-e699cf894b69",
   "metadata": {
    "tags": []
   },
   "outputs": [
    {
     "data": {
      "text/plain": [
       "6207579"
      ]
     },
     "execution_count": 130,
     "metadata": {},
     "output_type": "execute_result"
    }
   ],
   "source": [
    "total_unmatched_count"
   ]
  },
  {
   "cell_type": "code",
   "execution_count": null,
   "id": "b6c3d06f-1670-4f6d-9535-621f91e3f4ba",
   "metadata": {},
   "outputs": [],
   "source": []
  }
 ],
 "metadata": {
  "kernelspec": {
   "display_name": "Python 3 (ipykernel)",
   "language": "python",
   "name": "python3"
  },
  "language_info": {
   "codemirror_mode": {
    "name": "ipython",
    "version": 3
   },
   "file_extension": ".py",
   "mimetype": "text/x-python",
   "name": "python",
   "nbconvert_exporter": "python",
   "pygments_lexer": "ipython3",
   "version": "3.7.9"
  }
 },
 "nbformat": 4,
 "nbformat_minor": 5
}
